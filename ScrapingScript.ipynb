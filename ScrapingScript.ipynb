{
 "cells": [
  {
   "cell_type": "code",
   "execution_count": 13,
   "metadata": {},
   "outputs": [],
   "source": [
    "from bs4 import BeautifulSoup\n",
    "import requests\n",
    "from csv import writer\n",
    "\n",
    "#varaiables\n",
    "Apartlist= []\n",
    "\n",
    "#user agent\n",
    "headers = {'User-Agent': 'Your User Agent'}\n",
    "\n",
    "def getHousing(pagenum):\n",
    "\n",
    "    #url\n",
    "    url = f\"https://www.pararius.com/apartments/amsterdam/page-{pagenum}\"\n",
    "\n",
    "    # get page\n",
    "    page = requests.get(url, headers=headers)\n",
    "\n",
    "    # get content\n",
    "    Page_content = BeautifulSoup(page.content, 'html.parser')\n",
    "\n",
    "    # getALL sections (section : where we have the announce of an apart) with it's css class class_\n",
    "    lists = Page_content.findAll('section', class_='listing-search-item')\n",
    "\n",
    "    #create and open the csv file\n",
    "    with open(r'C:\\Users\\marwe\\OneDrive\\Bureau\\BI PROJECTS\\Web Scraping\\Real Estate Data\\AmsterdamHousing.csv', 'a', encoding='utf8', newline='') as f:\n",
    "\n",
    "        #declare the writer to write in the file f\n",
    "        writer_ = writer(f)\n",
    "\n",
    "        #header of the file\n",
    "        header = ['Title', 'Price', 'Address', 'Area', 'Rooms', 'Interior']\n",
    "\n",
    "        #write the header\n",
    "        writer_.writerow(header)\n",
    "\n",
    "        # get data : Title, Price, Address, Living Area, Rooms, Interior\n",
    "        for list in lists:\n",
    "            lilists_rooms = list.findAll('li',\n",
    "                                         class_=\"illustrated-features__item illustrated-features__item--number-of-rooms\")\n",
    "            lilists_area = list.findAll('li',\n",
    "                                        class_=\"illustrated-features__item illustrated-features__item--surface-area\")\n",
    "            lilists_interior = list.findAll('li',\n",
    "                                            class_=\"illustrated-features__item illustrated-features__item--interior\")\n",
    "\n",
    "            title = list.find('a', class_=\"listing-search-item__link listing-search-item__link--title\").text.replace('\\n', '')\n",
    "            price = list.find('span', class_=\"listing-search-item__price\").text.replace('\\n', '')\n",
    "            address = list.find('div', class_=\"listing-search-item__location\").text.replace('\\n', '')\n",
    "\n",
    "            for liarea in lilists_area:\n",
    "                area = liarea.find('span', class_=\"illustrated-features__description\").text\n",
    "            for lroom in lilists_rooms:\n",
    "                rooms = lroom.find('span', class_=\"illustrated-features__description\").text\n",
    "            for lint in lilists_interior:\n",
    "                interior = lint.find('span', class_=\"illustrated-features__description\").text\n",
    "\n",
    "            info = [title, price, address, area, rooms, interior]\n",
    "            writer_.writerow(info)\n",
    "    return\n",
    "\n",
    "for x in range (1,35):\n",
    "    getHousing(x)"
   ]
  },
  {
   "cell_type": "code",
   "execution_count": null,
   "metadata": {},
   "outputs": [],
   "source": [
    "print(len())"
   ]
  },
  {
   "cell_type": "code",
   "execution_count": null,
   "metadata": {},
   "outputs": [],
   "source": []
  }
 ],
 "metadata": {
  "kernelspec": {
   "display_name": "Python 3",
   "language": "python",
   "name": "python3"
  },
  "language_info": {
   "codemirror_mode": {
    "name": "ipython",
    "version": 3
   },
   "file_extension": ".py",
   "mimetype": "text/x-python",
   "name": "python",
   "nbconvert_exporter": "python",
   "pygments_lexer": "ipython3",
   "version": "3.7.4"
  }
 },
 "nbformat": 4,
 "nbformat_minor": 2
}
